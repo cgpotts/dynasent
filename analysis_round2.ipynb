{
 "cells": [
  {
   "cell_type": "markdown",
   "metadata": {},
   "source": [
    "# DynaSent version 1: Round 2 analysis"
   ]
  },
  {
   "cell_type": "code",
   "execution_count": 1,
   "metadata": {},
   "outputs": [],
   "source": [
    "__author__ = 'Christopher Potts'"
   ]
  },
  {
   "cell_type": "markdown",
   "metadata": {},
   "source": [
    "## Contents\n",
    "\n",
    "1. [Set-up](#Set-up)\n",
    "1. [Load the splits](#Load-the-splits)\n",
    "1. [Label distributions](#Label-distributions)\n",
    "1. [Relationship between validation labels and model predictions](#Relationship-between-validation-labels-and-model-predictions)\n",
    "1. [Adversarial rates](#Adversarial-rates)\n",
    "1. [Distribution of validation response distributions](#Distribution-of-validation-response-distributions)\n",
    "1. [Worker distribution](#Worker-distribution)\n",
    "1. [Estimates of human performance](#Estimates-of-human-performance)\n",
    "1. [Examples for the paper](#Examples-for-the-paper)\n",
    "1. [Random cases](#Random-cases)"
   ]
  },
  {
   "cell_type": "markdown",
   "metadata": {},
   "source": [
    "## Set-up"
   ]
  },
  {
   "cell_type": "code",
   "execution_count": 2,
   "metadata": {},
   "outputs": [],
   "source": [
    "import matplotlib.pyplot as plt\n",
    "import os\n",
    "\n",
    "import dynasent_utils as utils"
   ]
  },
  {
   "cell_type": "code",
   "execution_count": 3,
   "metadata": {},
   "outputs": [],
   "source": [
    "plt.style.use(\"dynasent.mplstyle\")"
   ]
  },
  {
   "cell_type": "code",
   "execution_count": 4,
   "metadata": {},
   "outputs": [],
   "source": [
    "src_dirname = \"dynasent-v1.1\""
   ]
  },
  {
   "cell_type": "code",
   "execution_count": 5,
   "metadata": {},
   "outputs": [],
   "source": [
    "filename_template = os.path.join(\n",
    "    src_dirname, \"dynasent-v1.1-round02-dynabench-{}.jsonl\")"
   ]
  },
  {
   "cell_type": "code",
   "execution_count": 6,
   "metadata": {},
   "outputs": [],
   "source": [
    "train_filename = filename_template.format(\"train\")"
   ]
  },
  {
   "cell_type": "code",
   "execution_count": 7,
   "metadata": {},
   "outputs": [],
   "source": [
    "dev_filename = filename_template.format(\"dev\")"
   ]
  },
  {
   "cell_type": "code",
   "execution_count": 8,
   "metadata": {},
   "outputs": [],
   "source": [
    "test_filename = filename_template.format(\"test\")"
   ]
  },
  {
   "cell_type": "markdown",
   "metadata": {},
   "source": [
    "## Load the splits"
   ]
  },
  {
   "cell_type": "code",
   "execution_count": 9,
   "metadata": {},
   "outputs": [],
   "source": [
    "train = utils.load_dataset(train_filename)"
   ]
  },
  {
   "cell_type": "code",
   "execution_count": 10,
   "metadata": {},
   "outputs": [
    {
     "data": {
      "text/plain": [
       "{'hit_ids': ['y22661'],\n",
       " 'sentence': \"We enjoyed our first and last meal in Toronto at Bombay Palace, and I can't think of a better way to book our journey.\",\n",
       " 'sentence_author': 'w250',\n",
       " 'has_prompt': True,\n",
       " 'prompt_data': {'indices_into_review_text': [2093, 2213],\n",
       "  'review_rating': 5,\n",
       "  'prompt_sentence': \"Our first and last meals in Toronto were enjoyed at Bombay Palace and I can't think of a better way to bookend our trip.\",\n",
       "  'review_id': 'Krm4kSIb06BDHternF4_pA'},\n",
       " 'model_1_label': 'positive',\n",
       " 'model_1_probs': {'negative': 0.29140257835388184,\n",
       "  'positive': 0.6788994669914246,\n",
       "  'neutral': 0.029697999358177185},\n",
       " 'text_id': 'd16069',\n",
       " 'label_distribution': {'positive': ['w43', 'w26', 'w155', 'w23'],\n",
       "  'negative': [],\n",
       "  'neutral': [],\n",
       "  'mixed': ['w174']},\n",
       " 'gold_label': 'positive'}"
      ]
     },
     "execution_count": 10,
     "metadata": {},
     "output_type": "execute_result"
    }
   ],
   "source": [
    "train[0]"
   ]
  },
  {
   "cell_type": "code",
   "execution_count": 11,
   "metadata": {},
   "outputs": [],
   "source": [
    "train_ternary = utils.load_dataset(\n",
    "    train_filename,\n",
    "    labels=('positive', 'negative', 'neutral'))"
   ]
  },
  {
   "cell_type": "code",
   "execution_count": 12,
   "metadata": {},
   "outputs": [],
   "source": [
    "dev = utils.load_dataset(dev_filename)"
   ]
  },
  {
   "cell_type": "code",
   "execution_count": 13,
   "metadata": {},
   "outputs": [],
   "source": [
    "test = utils.load_dataset(test_filename)"
   ]
  },
  {
   "cell_type": "markdown",
   "metadata": {},
   "source": [
    "## Label distributions"
   ]
  },
  {
   "cell_type": "code",
   "execution_count": 14,
   "metadata": {},
   "outputs": [
    {
     "data": {
      "text/plain": [
       "positive        6518\n",
       "negative        5059\n",
       "mixed           3334\n",
       "neutral         2928\n",
       "No Majority     2136\n",
       "Total          19975\n",
       "Name: gold_label, dtype: int64"
      ]
     },
     "execution_count": 14,
     "metadata": {},
     "output_type": "execute_result"
    }
   ],
   "source": [
    "utils.get_label_distribution(train, dev, test, dist_labels=False)"
   ]
  },
  {
   "cell_type": "code",
   "execution_count": 15,
   "metadata": {},
   "outputs": [
    {
     "data": {
      "text/plain": [
       "positive    32551\n",
       "negative    24994\n",
       "mixed       18765\n",
       "neutral     16365\n",
       "Total       92675\n",
       "dtype: int64"
      ]
     },
     "execution_count": 15,
     "metadata": {},
     "output_type": "execute_result"
    }
   ],
   "source": [
    "utils.get_label_distribution(train, dist_labels=True)"
   ]
  },
  {
   "cell_type": "code",
   "execution_count": 16,
   "metadata": {},
   "outputs": [
    {
     "data": {
      "text/plain": [
       "positive        6038\n",
       "negative        4579\n",
       "mixed           3334\n",
       "neutral         2448\n",
       "No Majority     2136\n",
       "Total          18535\n",
       "Name: gold_label, dtype: int64"
      ]
     },
     "execution_count": 16,
     "metadata": {},
     "output_type": "execute_result"
    }
   ],
   "source": [
    "utils.get_label_distribution(train, dist_labels=False)"
   ]
  },
  {
   "cell_type": "code",
   "execution_count": 17,
   "metadata": {},
   "outputs": [
    {
     "data": {
      "text/plain": [
       "neutral     240\n",
       "positive    240\n",
       "negative    240\n",
       "Total       720\n",
       "Name: gold_label, dtype: int64"
      ]
     },
     "execution_count": 17,
     "metadata": {},
     "output_type": "execute_result"
    }
   ],
   "source": [
    "utils.get_label_distribution(dev, dist_labels=False)"
   ]
  },
  {
   "cell_type": "code",
   "execution_count": 18,
   "metadata": {},
   "outputs": [
    {
     "data": {
      "text/plain": [
       "neutral     240\n",
       "positive    240\n",
       "negative    240\n",
       "Total       720\n",
       "Name: gold_label, dtype: int64"
      ]
     },
     "execution_count": 18,
     "metadata": {},
     "output_type": "execute_result"
    }
   ],
   "source": [
    "utils.get_label_distribution(test, dist_labels=False)"
   ]
  },
  {
   "cell_type": "markdown",
   "metadata": {},
   "source": [
    "## Relationship between validation labels and model predictions"
   ]
  },
  {
   "cell_type": "code",
   "execution_count": 19,
   "metadata": {},
   "outputs": [
    {
     "data": {
      "text/plain": [
       "gold_label  model_1_label\n",
       "mixed       negative         1612\n",
       "            neutral           584\n",
       "            positive         1138\n",
       "negative    negative         3693\n",
       "            neutral           214\n",
       "            positive          672\n",
       "neutral     negative          406\n",
       "            neutral          1473\n",
       "            positive          569\n",
       "positive    negative          255\n",
       "            neutral           261\n",
       "            positive         5522\n",
       "dtype: int64"
      ]
     },
     "execution_count": 19,
     "metadata": {},
     "output_type": "execute_result"
    }
   ],
   "source": [
    "utils.get_label_model_relationship(train, model_colname='model_1_label')"
   ]
  },
  {
   "cell_type": "code",
   "execution_count": 20,
   "metadata": {},
   "outputs": [
    {
     "data": {
      "text/plain": [
       "gold_label  model_1_label\n",
       "negative    negative         80\n",
       "            neutral          80\n",
       "            positive         80\n",
       "neutral     negative         80\n",
       "            neutral          80\n",
       "            positive         80\n",
       "positive    negative         80\n",
       "            neutral          80\n",
       "            positive         80\n",
       "dtype: int64"
      ]
     },
     "execution_count": 20,
     "metadata": {},
     "output_type": "execute_result"
    }
   ],
   "source": [
    "utils.get_label_model_relationship(dev, model_colname='model_1_label')"
   ]
  },
  {
   "cell_type": "code",
   "execution_count": 21,
   "metadata": {},
   "outputs": [
    {
     "data": {
      "text/plain": [
       "gold_label  model_1_label\n",
       "negative    negative         80\n",
       "            neutral          80\n",
       "            positive         80\n",
       "neutral     negative         80\n",
       "            neutral          80\n",
       "            positive         80\n",
       "positive    negative         80\n",
       "            neutral          80\n",
       "            positive         80\n",
       "dtype: int64"
      ]
     },
     "execution_count": 21,
     "metadata": {},
     "output_type": "execute_result"
    }
   ],
   "source": [
    "utils.get_label_model_relationship(test, model_colname='model_1_label')"
   ]
  },
  {
   "cell_type": "markdown",
   "metadata": {},
   "source": [
    "## Adversarial rates"
   ]
  },
  {
   "cell_type": "code",
   "execution_count": 22,
   "metadata": {},
   "outputs": [
    {
     "name": "stdout",
     "output_type": "stream",
     "text": [
      "3,337 of 17,839 examples (18.71%) are adversarial\n"
     ]
    }
   ],
   "source": [
    "adversarial, total = utils.get_adversarial_rate(\n",
    "    train, dev, test,\n",
    "    model_colname='model_1_label',\n",
    "    labels=('positive', 'negative', 'neutral'))\n",
    "\n",
    "print(f\"{adversarial:,} of {total:,} examples ({adversarial/total:0.2%}) are adversarial\")"
   ]
  },
  {
   "cell_type": "markdown",
   "metadata": {},
   "source": [
    "## Distribution of validation response distributions"
   ]
  },
  {
   "cell_type": "code",
   "execution_count": 23,
   "metadata": {},
   "outputs": [
    {
     "data": {
      "text/plain": [
       "5    6439\n",
       "3    5322\n",
       "4    4638\n",
       "dtype: int64"
      ]
     },
     "execution_count": 23,
     "metadata": {},
     "output_type": "execute_result"
    }
   ],
   "source": [
    "utils.get_dist_of_majority_dists(train)"
   ]
  },
  {
   "cell_type": "code",
   "execution_count": 24,
   "metadata": {},
   "outputs": [
    {
     "data": {
      "text/plain": [
       "4    393\n",
       "5    327\n",
       "dtype: int64"
      ]
     },
     "execution_count": 24,
     "metadata": {},
     "output_type": "execute_result"
    }
   ],
   "source": [
    "utils.get_dist_of_majority_dists(dev)"
   ]
  },
  {
   "cell_type": "code",
   "execution_count": 25,
   "metadata": {},
   "outputs": [
    {
     "data": {
      "text/plain": [
       "4    411\n",
       "5    309\n",
       "dtype: int64"
      ]
     },
     "execution_count": 25,
     "metadata": {},
     "output_type": "execute_result"
    }
   ],
   "source": [
    "utils.get_dist_of_majority_dists(test)"
   ]
  },
  {
   "cell_type": "markdown",
   "metadata": {},
   "source": [
    "## Worker distribution"
   ]
  },
  {
   "cell_type": "code",
   "execution_count": 26,
   "metadata": {},
   "outputs": [
    {
     "data": {
      "text/plain": [
       "(625,)"
      ]
     },
     "execution_count": 26,
     "metadata": {},
     "output_type": "execute_result"
    }
   ],
   "source": [
    "worker_dist = utils.get_global_worker_dist(train, dev, test)\n",
    "\n",
    "worker_dist.shape"
   ]
  },
  {
   "cell_type": "code",
   "execution_count": 27,
   "metadata": {},
   "outputs": [
    {
     "data": {
      "text/plain": [
       "w23     2080\n",
       "w79     1953\n",
       "w193    1946\n",
       "w135    1837\n",
       "w439    1821\n",
       "dtype: int64"
      ]
     },
     "execution_count": 27,
     "metadata": {},
     "output_type": "execute_result"
    }
   ],
   "source": [
    "worker_dist.head()"
   ]
  },
  {
   "cell_type": "code",
   "execution_count": 28,
   "metadata": {},
   "outputs": [
    {
     "data": {
      "text/plain": [
       "20.0"
      ]
     },
     "execution_count": 28,
     "metadata": {},
     "output_type": "execute_result"
    }
   ],
   "source": [
    "worker_dist.median()"
   ]
  },
  {
   "cell_type": "code",
   "execution_count": 29,
   "metadata": {},
   "outputs": [
    {
     "data": {
      "text/plain": [
       "0    1\n",
       "dtype: int64"
      ]
     },
     "execution_count": 29,
     "metadata": {},
     "output_type": "execute_result"
    }
   ],
   "source": [
    "worker_dist.mode()"
   ]
  },
  {
   "cell_type": "code",
   "execution_count": 30,
   "metadata": {},
   "outputs": [
    {
     "data": {
      "image/png": "[encoded data removed]",
      "text/plain": [
       "<Figure size 576x360 with 1 Axes>"
      ]
     },
     "metadata": {},
     "output_type": "display_data"
    }
   ],
   "source": [
    "utils.plot_global_worker_dist(\n",
    "    worker_dist, os.path.join('img', 'round2-workers.png'))"
   ]
  },
  {
   "cell_type": "markdown",
   "metadata": {},
   "source": [
    "## Estimates of human performance"
   ]
  },
  {
   "cell_type": "code",
   "execution_count": 31,
   "metadata": {},
   "outputs": [
    {
     "data": {
      "text/plain": [
       "0.681"
      ]
     },
     "execution_count": 31,
     "metadata": {},
     "output_type": "execute_result"
    }
   ],
   "source": [
    "utils.get_fleiss_kappa(dev).round(3)"
   ]
  },
  {
   "cell_type": "code",
   "execution_count": 32,
   "metadata": {},
   "outputs": [
    {
     "data": {
      "text/plain": [
       "0.667"
      ]
     },
     "execution_count": 32,
     "metadata": {},
     "output_type": "execute_result"
    }
   ],
   "source": [
    "utils.get_fleiss_kappa(test).round(3)"
   ]
  },
  {
   "cell_type": "code",
   "execution_count": 33,
   "metadata": {},
   "outputs": [
    {
     "data": {
      "text/html": [
       "<div>\n",
       "<style scoped>\n",
       "    .dataframe tbody tr th:only-of-type {\n",
       "        vertical-align: middle;\n",
       "    }\n",
       "\n",
       "    .dataframe tbody tr th {\n",
       "        vertical-align: top;\n",
       "    }\n",
       "\n",
       "    .dataframe thead th {\n",
       "        text-align: right;\n",
       "    }\n",
       "</style>\n",
       "<table border=\"1\" class=\"dataframe\">\n",
       "  <thead>\n",
       "    <tr style=\"text-align: right;\">\n",
       "      <th></th>\n",
       "      <th>precision</th>\n",
       "      <th>recall</th>\n",
       "      <th>F1</th>\n",
       "      <th>support</th>\n",
       "    </tr>\n",
       "  </thead>\n",
       "  <tbody>\n",
       "    <tr>\n",
       "      <th>positive</th>\n",
       "      <td>0.925</td>\n",
       "      <td>0.896</td>\n",
       "      <td>0.910</td>\n",
       "      <td>240.0</td>\n",
       "    </tr>\n",
       "    <tr>\n",
       "      <th>negative</th>\n",
       "      <td>0.926</td>\n",
       "      <td>0.899</td>\n",
       "      <td>0.912</td>\n",
       "      <td>240.0</td>\n",
       "    </tr>\n",
       "    <tr>\n",
       "      <th>neutral</th>\n",
       "      <td>0.900</td>\n",
       "      <td>0.878</td>\n",
       "      <td>0.889</td>\n",
       "      <td>240.0</td>\n",
       "    </tr>\n",
       "    <tr>\n",
       "      <th>Macro avg</th>\n",
       "      <td>0.917</td>\n",
       "      <td>0.891</td>\n",
       "      <td>0.904</td>\n",
       "      <td>240.0</td>\n",
       "    </tr>\n",
       "  </tbody>\n",
       "</table>\n",
       "</div>"
      ],
      "text/plain": [
       "           precision  recall     F1  support\n",
       "positive       0.925   0.896  0.910    240.0\n",
       "negative       0.926   0.899  0.912    240.0\n",
       "neutral        0.900   0.878  0.889    240.0\n",
       "Macro avg      0.917   0.891  0.904    240.0"
      ]
     },
     "execution_count": 33,
     "metadata": {},
     "output_type": "execute_result"
    }
   ],
   "source": [
    "utils.estimate_human_precision_recall_f1(dev).round(3)"
   ]
  },
  {
   "cell_type": "code",
   "execution_count": 34,
   "metadata": {},
   "outputs": [
    {
     "data": {
      "text/html": [
       "<div>\n",
       "<style scoped>\n",
       "    .dataframe tbody tr th:only-of-type {\n",
       "        vertical-align: middle;\n",
       "    }\n",
       "\n",
       "    .dataframe tbody tr th {\n",
       "        vertical-align: top;\n",
       "    }\n",
       "\n",
       "    .dataframe thead th {\n",
       "        text-align: right;\n",
       "    }\n",
       "</style>\n",
       "<table border=\"1\" class=\"dataframe\">\n",
       "  <thead>\n",
       "    <tr style=\"text-align: right;\">\n",
       "      <th></th>\n",
       "      <th>precision</th>\n",
       "      <th>recall</th>\n",
       "      <th>F1</th>\n",
       "      <th>support</th>\n",
       "    </tr>\n",
       "  </thead>\n",
       "  <tbody>\n",
       "    <tr>\n",
       "      <th>positive</th>\n",
       "      <td>0.923</td>\n",
       "      <td>0.894</td>\n",
       "      <td>0.909</td>\n",
       "      <td>240.0</td>\n",
       "    </tr>\n",
       "    <tr>\n",
       "      <th>negative</th>\n",
       "      <td>0.929</td>\n",
       "      <td>0.892</td>\n",
       "      <td>0.910</td>\n",
       "      <td>240.0</td>\n",
       "    </tr>\n",
       "    <tr>\n",
       "      <th>neutral</th>\n",
       "      <td>0.894</td>\n",
       "      <td>0.872</td>\n",
       "      <td>0.882</td>\n",
       "      <td>240.0</td>\n",
       "    </tr>\n",
       "    <tr>\n",
       "      <th>Macro avg</th>\n",
       "      <td>0.915</td>\n",
       "      <td>0.886</td>\n",
       "      <td>0.900</td>\n",
       "      <td>240.0</td>\n",
       "    </tr>\n",
       "  </tbody>\n",
       "</table>\n",
       "</div>"
      ],
      "text/plain": [
       "           precision  recall     F1  support\n",
       "positive       0.923   0.894  0.909    240.0\n",
       "negative       0.929   0.892  0.910    240.0\n",
       "neutral        0.894   0.872  0.882    240.0\n",
       "Macro avg      0.915   0.886  0.900    240.0"
      ]
     },
     "execution_count": 34,
     "metadata": {},
     "output_type": "execute_result"
    }
   ],
   "source": [
    "utils.estimate_human_precision_recall_f1(test).round(3)"
   ]
  },
  {
   "cell_type": "code",
   "execution_count": 35,
   "metadata": {},
   "outputs": [],
   "source": [
    "agr_df = utils.get_worker_agreement(dev)"
   ]
  },
  {
   "cell_type": "code",
   "execution_count": 36,
   "metadata": {},
   "outputs": [
    {
     "data": {
      "text/plain": [
       "116"
      ]
     },
     "execution_count": 36,
     "metadata": {},
     "output_type": "execute_result"
    }
   ],
   "source": [
    "agr_df[agr_df.rate == 1].shape[0]"
   ]
  },
  {
   "cell_type": "code",
   "execution_count": 37,
   "metadata": {},
   "outputs": [
    {
     "data": {
      "text/plain": [
       "244"
      ]
     },
     "execution_count": 37,
     "metadata": {},
     "output_type": "execute_result"
    }
   ],
   "source": [
    "agr_df.shape[0]"
   ]
  },
  {
   "cell_type": "code",
   "execution_count": 38,
   "metadata": {},
   "outputs": [
    {
     "data": {
      "text/plain": [
       "0.5163934426229508"
      ]
     },
     "execution_count": 38,
     "metadata": {},
     "output_type": "execute_result"
    }
   ],
   "source": [
    "## Percentage of workers with 95% agreement or more:\n",
    "\n",
    "agr_df[agr_df.rate >= 0.95].shape[0] / agr_df.shape[0]"
   ]
  },
  {
   "cell_type": "code",
   "execution_count": 39,
   "metadata": {},
   "outputs": [
    {
     "data": {
      "image/png": "[encoded data removed]",
      "text/plain": [
       "<Figure size 360x288 with 1 Axes>"
      ]
     },
     "metadata": {},
     "output_type": "display_data"
    }
   ],
   "source": [
    "utils.plot_worker_agreement(\n",
    "    dev, test, os.path.join('img', 'human-agr-round2.png'))"
   ]
  },
  {
   "cell_type": "markdown",
   "metadata": {},
   "source": [
    "## Examples for the paper"
   ]
  },
  {
   "cell_type": "code",
   "execution_count": 40,
   "metadata": {},
   "outputs": [
    {
     "data": {
      "text/html": [
       "<div>\n",
       "<style scoped>\n",
       "    .dataframe tbody tr th:only-of-type {\n",
       "        vertical-align: middle;\n",
       "    }\n",
       "\n",
       "    .dataframe tbody tr th {\n",
       "        vertical-align: top;\n",
       "    }\n",
       "\n",
       "    .dataframe thead th {\n",
       "        text-align: right;\n",
       "    }\n",
       "</style>\n",
       "<table border=\"1\" class=\"dataframe\">\n",
       "  <thead>\n",
       "    <tr style=\"text-align: right;\">\n",
       "      <th></th>\n",
       "      <th>sentence</th>\n",
       "      <th>model_1_label</th>\n",
       "      <th>responses</th>\n",
       "    </tr>\n",
       "  </thead>\n",
       "  <tbody>\n",
       "    <tr>\n",
       "      <th>0</th>\n",
       "      <td>The place was somewhat good and not well</td>\n",
       "      <td>negative</td>\n",
       "      <td>mix, mix, mix, mix, neg</td>\n",
       "    </tr>\n",
       "    <tr>\n",
       "      <th>3</th>\n",
       "      <td>I bought a new car and met with an accident.</td>\n",
       "      <td>negative</td>\n",
       "      <td>neg, neg, neg, neg, neg</td>\n",
       "    </tr>\n",
       "    <tr>\n",
       "      <th>6</th>\n",
       "      <td>The retail store is closed for now at least.</td>\n",
       "      <td>negative</td>\n",
       "      <td>neu, neu, neu, neu, neu</td>\n",
       "    </tr>\n",
       "    <tr>\n",
       "      <th>9</th>\n",
       "      <td>Prices are basically like garage sale prices.</td>\n",
       "      <td>negative</td>\n",
       "      <td>neg, neu, pos, pos, pos</td>\n",
       "    </tr>\n",
       "    <tr>\n",
       "      <th>1</th>\n",
       "      <td>That book was good.  I need to get rid of it.</td>\n",
       "      <td>neutral</td>\n",
       "      <td>mix, mix, mix, neg, pos</td>\n",
       "    </tr>\n",
       "    <tr>\n",
       "      <th>4</th>\n",
       "      <td>I REALLY wanted to like this place</td>\n",
       "      <td>neutral</td>\n",
       "      <td>mix, neg, neg, neg, pos</td>\n",
       "    </tr>\n",
       "    <tr>\n",
       "      <th>7</th>\n",
       "      <td>But I'm going to leave my money for the next vet.</td>\n",
       "      <td>neutral</td>\n",
       "      <td>neg, neu, neu, neu, neu</td>\n",
       "    </tr>\n",
       "    <tr>\n",
       "      <th>10</th>\n",
       "      <td>once upon a time the model made a super decision.</td>\n",
       "      <td>neutral</td>\n",
       "      <td>pos, pos, pos, pos, pos</td>\n",
       "    </tr>\n",
       "    <tr>\n",
       "      <th>2</th>\n",
       "      <td>I cook my caribbean food and it was okay</td>\n",
       "      <td>positive</td>\n",
       "      <td>mix, mix, mix, pos, pos</td>\n",
       "    </tr>\n",
       "    <tr>\n",
       "      <th>5</th>\n",
       "      <td>This concept is really cool in name only.</td>\n",
       "      <td>positive</td>\n",
       "      <td>mix, neg, neg, neg, neu</td>\n",
       "    </tr>\n",
       "    <tr>\n",
       "      <th>8</th>\n",
       "      <td>Wow, it'd be super cool if you could join us</td>\n",
       "      <td>positive</td>\n",
       "      <td>neu, neu, neu, neu, pos</td>\n",
       "    </tr>\n",
       "    <tr>\n",
       "      <th>11</th>\n",
       "      <td>Knife cut thru it like butter! It was great.</td>\n",
       "      <td>positive</td>\n",
       "      <td>pos, pos, pos, pos, pos</td>\n",
       "    </tr>\n",
       "  </tbody>\n",
       "</table>\n",
       "</div>"
      ],
      "text/plain": [
       "                                             sentence model_1_label  \\\n",
       "0            The place was somewhat good and not well      negative   \n",
       "3        I bought a new car and met with an accident.      negative   \n",
       "6        The retail store is closed for now at least.      negative   \n",
       "9       Prices are basically like garage sale prices.      negative   \n",
       "1       That book was good.  I need to get rid of it.       neutral   \n",
       "4                  I REALLY wanted to like this place       neutral   \n",
       "7   But I'm going to leave my money for the next vet.       neutral   \n",
       "10  once upon a time the model made a super decision.       neutral   \n",
       "2            I cook my caribbean food and it was okay      positive   \n",
       "5           This concept is really cool in name only.      positive   \n",
       "8        Wow, it'd be super cool if you could join us      positive   \n",
       "11       Knife cut thru it like butter! It was great.      positive   \n",
       "\n",
       "                  responses  \n",
       "0   mix, mix, mix, mix, neg  \n",
       "3   neg, neg, neg, neg, neg  \n",
       "6   neu, neu, neu, neu, neu  \n",
       "9   neg, neu, pos, pos, pos  \n",
       "1   mix, mix, mix, neg, pos  \n",
       "4   mix, neg, neg, neg, pos  \n",
       "7   neg, neu, neu, neu, neu  \n",
       "10  pos, pos, pos, pos, pos  \n",
       "2   mix, mix, mix, pos, pos  \n",
       "5   mix, neg, neg, neg, neu  \n",
       "8   neu, neu, neu, neu, pos  \n",
       "11  pos, pos, pos, pos, pos  "
      ]
     },
     "execution_count": 40,
     "metadata": {},
     "output_type": "execute_result"
    }
   ],
   "source": [
    "utils.sample_short_examples(train, 'model_1_label')"
   ]
  },
  {
   "cell_type": "markdown",
   "metadata": {},
   "source": [
    "## Random cases"
   ]
  },
  {
   "cell_type": "code",
   "execution_count": 41,
   "metadata": {},
   "outputs": [
    {
     "data": {
      "text/html": [
       "<div>\n",
       "<style scoped>\n",
       "    .dataframe tbody tr th:only-of-type {\n",
       "        vertical-align: middle;\n",
       "    }\n",
       "\n",
       "    .dataframe tbody tr th {\n",
       "        vertical-align: top;\n",
       "    }\n",
       "\n",
       "    .dataframe thead th {\n",
       "        text-align: right;\n",
       "    }\n",
       "</style>\n",
       "<table border=\"1\" class=\"dataframe\">\n",
       "  <thead>\n",
       "    <tr style=\"text-align: right;\">\n",
       "      <th></th>\n",
       "      <th>sentence</th>\n",
       "      <th>model_1_label</th>\n",
       "      <th>responses</th>\n",
       "    </tr>\n",
       "  </thead>\n",
       "  <tbody>\n",
       "    <tr>\n",
       "      <th>0</th>\n",
       "      <td>The menu was appealing.</td>\n",
       "      <td>positive</td>\n",
       "      <td>pos, pos, pos, pos, pos</td>\n",
       "    </tr>\n",
       "    <tr>\n",
       "      <th>1</th>\n",
       "      <td>Our food took forever to get home.</td>\n",
       "      <td>negative</td>\n",
       "      <td>neg, neg, neg, neg, neu</td>\n",
       "    </tr>\n",
       "    <tr>\n",
       "      <th>2</th>\n",
       "      <td>Our table was ready after 90 minutes and usually I'd be mad but the scenery was nice so it was an okay time.</td>\n",
       "      <td>positive</td>\n",
       "      <td>mix, mix, mix, mix, pos</td>\n",
       "    </tr>\n",
       "    <tr>\n",
       "      <th>3</th>\n",
       "      <td>I left feeling like an initiator in a world of books that I never even knew existed.</td>\n",
       "      <td>positive</td>\n",
       "      <td>mix, neu, pos, pos, pos</td>\n",
       "    </tr>\n",
       "    <tr>\n",
       "      <th>4</th>\n",
       "      <td>I decided to go with josh wilcox, only as a last resort</td>\n",
       "      <td>neutral</td>\n",
       "      <td>mix, neg, neu, neu, neu</td>\n",
       "    </tr>\n",
       "    <tr>\n",
       "      <th>5</th>\n",
       "      <td>: ] Standard ask if the food is a great happening!</td>\n",
       "      <td>neutral</td>\n",
       "      <td>neu, neu, neu, neu, pos</td>\n",
       "    </tr>\n",
       "    <tr>\n",
       "      <th>6</th>\n",
       "      <td>The car was really beautiful.</td>\n",
       "      <td>positive</td>\n",
       "      <td>neu, pos, pos, pos, pos</td>\n",
       "    </tr>\n",
       "    <tr>\n",
       "      <th>7</th>\n",
       "      <td>Food is a beast of its own, low-quality ingredients, typically undercooked, and a thin, very simple menu.</td>\n",
       "      <td>negative</td>\n",
       "      <td>neg, neg, neg, neg, neu</td>\n",
       "    </tr>\n",
       "    <tr>\n",
       "      <th>8</th>\n",
       "      <td>I want to share a horrible experience here.</td>\n",
       "      <td>negative</td>\n",
       "      <td>neg, neg, neg, neg, neg</td>\n",
       "    </tr>\n",
       "    <tr>\n",
       "      <th>9</th>\n",
       "      <td>I tried a new place. The entrees were subpar to say the least.</td>\n",
       "      <td>negative</td>\n",
       "      <td>neg, neg, neg, neg, neg</td>\n",
       "    </tr>\n",
       "  </tbody>\n",
       "</table>\n",
       "</div>"
      ],
      "text/plain": [
       "                                                                                                       sentence  \\\n",
       "0                                                                                       The menu was appealing.   \n",
       "1                                                                            Our food took forever to get home.   \n",
       "2  Our table was ready after 90 minutes and usually I'd be mad but the scenery was nice so it was an okay time.   \n",
       "3                          I left feeling like an initiator in a world of books that I never even knew existed.   \n",
       "4                                                       I decided to go with josh wilcox, only as a last resort   \n",
       "5                                                            : ] Standard ask if the food is a great happening!   \n",
       "6                                                                                 The car was really beautiful.   \n",
       "7     Food is a beast of its own, low-quality ingredients, typically undercooked, and a thin, very simple menu.   \n",
       "8                                                                   I want to share a horrible experience here.   \n",
       "9                                                I tried a new place. The entrees were subpar to say the least.   \n",
       "\n",
       "  model_1_label                responses  \n",
       "0      positive  pos, pos, pos, pos, pos  \n",
       "1      negative  neg, neg, neg, neg, neu  \n",
       "2      positive  mix, mix, mix, mix, pos  \n",
       "3      positive  mix, neu, pos, pos, pos  \n",
       "4       neutral  mix, neg, neu, neu, neu  \n",
       "5       neutral  neu, neu, neu, neu, pos  \n",
       "6      positive  neu, pos, pos, pos, pos  \n",
       "7      negative  neg, neg, neg, neg, neu  \n",
       "8      negative  neg, neg, neg, neg, neg  \n",
       "9      negative  neg, neg, neg, neg, neg  "
      ]
     },
     "execution_count": 41,
     "metadata": {},
     "output_type": "execute_result"
    }
   ],
   "source": [
    "utils.sample_examples(train, 'model_1_label')"
   ]
  }
 ],
 "metadata": {
  "kernelspec": {
   "display_name": "Python 3",
   "language": "python",
   "name": "python3"
  },
  "language_info": {
   "codemirror_mode": {
    "name": "ipython",
    "version": 3
   },
   "file_extension": ".py",
   "mimetype": "text/x-python",
   "name": "python",
   "nbconvert_exporter": "python",
   "pygments_lexer": "ipython3",
   "version": "3.7.6"
  }
 },
 "nbformat": 4,
 "nbformat_minor": 4
}
